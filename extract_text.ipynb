{
 "cells": [
  {
   "cell_type": "code",
   "execution_count": 11,
   "id": "ba732a46",
   "metadata": {},
   "outputs": [],
   "source": [
    "import os\n",
    "import json"
   ]
  },
  {
   "cell_type": "code",
   "execution_count": 12,
   "id": "1c88e218",
   "metadata": {},
   "outputs": [],
   "source": [
    "corpus_path = '../datasets/legal-text-retrieval/legal_corpus.json'\n",
    "output_path = 'process_corpus'"
   ]
  },
  {
   "cell_type": "code",
   "execution_count": 13,
   "id": "273b99f4",
   "metadata": {},
   "outputs": [],
   "source": [
    "with open(corpus_path, 'r') as f_corpus:\n",
    "    corpus = json.load(f_corpus)\n",
    "f_corpus.close()"
   ]
  },
  {
   "cell_type": "code",
   "execution_count": 14,
   "id": "203928a3",
   "metadata": {},
   "outputs": [
    {
     "name": "stdout",
     "output_type": "stream",
     "text": [
      "n_laws:  3271\n"
     ]
    }
   ],
   "source": [
    "n_laws = len(corpus)\n",
    "print('n_laws: ', len(corpus))"
   ]
  },
  {
   "cell_type": "code",
   "execution_count": 15,
   "id": "8d28f4d6",
   "metadata": {},
   "outputs": [
    {
     "name": "stdout",
     "output_type": "stream",
     "text": [
      "n_laws_per_fold:  65\n",
      "=== idx:  0\n",
      "=== idx:  1\n",
      "=== idx:  2\n",
      "=== idx:  3\n",
      "=== idx:  4\n",
      "=== idx:  5\n",
      "=== idx:  6\n",
      "=== idx:  7\n",
      "=== idx:  8\n",
      "=== idx:  9\n",
      "=== idx:  10\n",
      "=== idx:  11\n",
      "=== idx:  12\n",
      "=== idx:  13\n",
      "=== idx:  14\n",
      "=== idx:  15\n",
      "=== idx:  16\n",
      "=== idx:  17\n",
      "=== idx:  18\n",
      "=== idx:  19\n",
      "=== idx:  20\n",
      "=== idx:  21\n",
      "=== idx:  22\n",
      "=== idx:  23\n",
      "=== idx:  24\n",
      "=== idx:  25\n",
      "=== idx:  26\n",
      "=== idx:  27\n",
      "=== idx:  28\n",
      "=== idx:  29\n",
      "=== idx:  30\n",
      "=== idx:  31\n",
      "=== idx:  32\n",
      "=== idx:  33\n",
      "=== idx:  34\n",
      "=== idx:  35\n",
      "=== idx:  36\n",
      "=== idx:  37\n",
      "=== idx:  38\n",
      "=== idx:  39\n",
      "=== idx:  40\n",
      "=== idx:  41\n",
      "=== idx:  42\n",
      "=== idx:  43\n",
      "=== idx:  44\n",
      "=== idx:  45\n",
      "=== idx:  46\n",
      "=== idx:  47\n",
      "=== idx:  48\n",
      "=== idx:  49\n",
      "n_laws_check:  3271\n"
     ]
    }
   ],
   "source": [
    "n_folds = 50\n",
    "n_laws_per_fold = n_laws // n_folds\n",
    "print('n_laws_per_fold: ', n_laws_per_fold)\n",
    "n_laws_check = 0\n",
    "for idx in range(0, n_folds-1):\n",
    "    print('=== idx: ', idx)\n",
    "    fold_law = corpus[idx*n_laws_per_fold:(idx+1)*n_laws_per_fold]\n",
    "    n_laws_check += len(fold_law)\n",
    "#     with open(corpus_path.replace('.json', '_{}.json'.format(idx)), 'w', encoding='utf8') as f_fold:\n",
    "    file_name = corpus_path.rsplit('/')[-1].replace('.json', '_{}.json'.format(idx))\n",
    "    with open(os.path.join(output_path, file_name), 'w', encoding='utf-8') as f_fold:\n",
    "        json.dump(fold_law, f_fold, ensure_ascii=False)\n",
    "        \n",
    "    f_fold.close()\n",
    "idx += 1\n",
    "print('=== idx: ', idx)\n",
    "fold_law = corpus[idx*n_laws_per_fold:len(corpus)]\n",
    "n_laws_check += len(fold_law)\n",
    "# with open(corpus_path.replace('.json', '_{}.json'.format(idx)), 'w', encoding='utf8') as f_fold:\n",
    "file_name = corpus_path.rsplit('/')[-1].replace('.json', '_{}.json'.format(idx))\n",
    "with open(os.path.join(output_path, file_name), 'w', encoding='utf-8') as f_fold:\n",
    "    json.dump(fold_law, f_fold, ensure_ascii=False)\n",
    "f_fold.close()\n",
    "print('n_laws_check: ', n_laws_check)"
   ]
  },
  {
   "cell_type": "code",
   "execution_count": null,
   "id": "8b3d30ca",
   "metadata": {},
   "outputs": [],
   "source": []
  }
 ],
 "metadata": {
  "kernelspec": {
   "display_name": "nlp2",
   "language": "python",
   "name": "nlp2"
  },
  "language_info": {
   "codemirror_mode": {
    "name": "ipython",
    "version": 3
   },
   "file_extension": ".py",
   "mimetype": "text/x-python",
   "name": "python",
   "nbconvert_exporter": "python",
   "pygments_lexer": "ipython3",
   "version": "3.7.11"
  }
 },
 "nbformat": 4,
 "nbformat_minor": 5
}
