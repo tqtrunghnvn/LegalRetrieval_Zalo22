{
 "cells": [
  {
   "cell_type": "code",
   "execution_count": 1,
   "id": "ba732a46",
   "metadata": {},
   "outputs": [],
   "source": [
    "import os\n",
    "import json"
   ]
  },
  {
   "cell_type": "code",
   "execution_count": 2,
   "id": "1c88e218",
   "metadata": {},
   "outputs": [],
   "source": [
    "corpus_path = '../datasets/legal-text-retrieval/legal_corpus.json'\n",
    "output_path = 'process_corpus'"
   ]
  },
  {
   "cell_type": "code",
   "execution_count": 3,
   "id": "273b99f4",
   "metadata": {},
   "outputs": [],
   "source": [
    "with open(corpus_path, 'r') as f_corpus:\n",
    "    corpus = json.load(f_corpus)\n",
    "f_corpus.close()"
   ]
  },
  {
   "cell_type": "code",
   "execution_count": 4,
   "id": "203928a3",
   "metadata": {},
   "outputs": [
    {
     "name": "stdout",
     "output_type": "stream",
     "text": [
      "n_laws:  3271\n"
     ]
    }
   ],
   "source": [
    "n_laws = len(corpus)\n",
    "print('n_laws: ', len(corpus))"
   ]
  },
  {
   "cell_type": "code",
   "execution_count": 5,
   "id": "4436f671",
   "metadata": {},
   "outputs": [],
   "source": [
    "n_folds = 50\n",
    "n_laws_per_fold = n_laws // n_folds"
   ]
  },
  {
   "cell_type": "code",
   "execution_count": 9,
   "id": "8d28f4d6",
   "metadata": {},
   "outputs": [
    {
     "name": "stdout",
     "output_type": "stream",
     "text": [
      "legal_corpus_0.json...\n"
     ]
    },
    {
     "ename": "JSONDecodeError",
     "evalue": "Expecting ',' delimiter: line 33 column 2378 (char 5572)",
     "output_type": "error",
     "traceback": [
      "\u001b[0;31m---------------------------------------------------------------------------\u001b[0m",
      "\u001b[0;31mJSONDecodeError\u001b[0m                           Traceback (most recent call last)",
      "\u001b[0;32m<ipython-input-9-9c858b76d106>\u001b[0m in \u001b[0;36m<module>\u001b[0;34m\u001b[0m\n\u001b[1;32m      7\u001b[0m     \u001b[0mprint\u001b[0m\u001b[0;34m(\u001b[0m\u001b[0;34m'{}...'\u001b[0m\u001b[0;34m.\u001b[0m\u001b[0mformat\u001b[0m\u001b[0;34m(\u001b[0m\u001b[0msub_file\u001b[0m\u001b[0;34m)\u001b[0m\u001b[0;34m)\u001b[0m\u001b[0;34m\u001b[0m\u001b[0;34m\u001b[0m\u001b[0m\n\u001b[1;32m      8\u001b[0m     \u001b[0;32mwith\u001b[0m \u001b[0mopen\u001b[0m\u001b[0;34m(\u001b[0m\u001b[0mos\u001b[0m\u001b[0;34m.\u001b[0m\u001b[0mpath\u001b[0m\u001b[0;34m.\u001b[0m\u001b[0mjoin\u001b[0m\u001b[0;34m(\u001b[0m\u001b[0mcorpus_path\u001b[0m\u001b[0;34m,\u001b[0m \u001b[0msub_file\u001b[0m\u001b[0;34m)\u001b[0m\u001b[0;34m,\u001b[0m \u001b[0;34m'r'\u001b[0m\u001b[0;34m)\u001b[0m \u001b[0;32mas\u001b[0m \u001b[0mf_sub_corpus\u001b[0m\u001b[0;34m:\u001b[0m\u001b[0;34m\u001b[0m\u001b[0;34m\u001b[0m\u001b[0m\n\u001b[0;32m----> 9\u001b[0;31m         \u001b[0msub_corpus\u001b[0m \u001b[0;34m=\u001b[0m \u001b[0mjson\u001b[0m\u001b[0;34m.\u001b[0m\u001b[0mload\u001b[0m\u001b[0;34m(\u001b[0m\u001b[0mf_sub_corpus\u001b[0m\u001b[0;34m)\u001b[0m\u001b[0;34m\u001b[0m\u001b[0;34m\u001b[0m\u001b[0m\n\u001b[0m\u001b[1;32m     10\u001b[0m     \u001b[0mf_sub_corpus\u001b[0m\u001b[0;34m.\u001b[0m\u001b[0mclose\u001b[0m\u001b[0;34m(\u001b[0m\u001b[0;34m)\u001b[0m\u001b[0;34m\u001b[0m\u001b[0;34m\u001b[0m\u001b[0m\n\u001b[1;32m     11\u001b[0m     \u001b[0mnew_corpus\u001b[0m \u001b[0;34m+=\u001b[0m \u001b[0msub_corpus\u001b[0m\u001b[0;34m\u001b[0m\u001b[0;34m\u001b[0m\u001b[0m\n",
      "\u001b[0;32m~/anaconda3/envs/nlp2/lib/python3.7/json/__init__.py\u001b[0m in \u001b[0;36mload\u001b[0;34m(fp, cls, object_hook, parse_float, parse_int, parse_constant, object_pairs_hook, **kw)\u001b[0m\n\u001b[1;32m    294\u001b[0m         \u001b[0mcls\u001b[0m\u001b[0;34m=\u001b[0m\u001b[0mcls\u001b[0m\u001b[0;34m,\u001b[0m \u001b[0mobject_hook\u001b[0m\u001b[0;34m=\u001b[0m\u001b[0mobject_hook\u001b[0m\u001b[0;34m,\u001b[0m\u001b[0;34m\u001b[0m\u001b[0;34m\u001b[0m\u001b[0m\n\u001b[1;32m    295\u001b[0m         \u001b[0mparse_float\u001b[0m\u001b[0;34m=\u001b[0m\u001b[0mparse_float\u001b[0m\u001b[0;34m,\u001b[0m \u001b[0mparse_int\u001b[0m\u001b[0;34m=\u001b[0m\u001b[0mparse_int\u001b[0m\u001b[0;34m,\u001b[0m\u001b[0;34m\u001b[0m\u001b[0;34m\u001b[0m\u001b[0m\n\u001b[0;32m--> 296\u001b[0;31m         parse_constant=parse_constant, object_pairs_hook=object_pairs_hook, **kw)\n\u001b[0m\u001b[1;32m    297\u001b[0m \u001b[0;34m\u001b[0m\u001b[0m\n\u001b[1;32m    298\u001b[0m \u001b[0;34m\u001b[0m\u001b[0m\n",
      "\u001b[0;32m~/anaconda3/envs/nlp2/lib/python3.7/json/__init__.py\u001b[0m in \u001b[0;36mloads\u001b[0;34m(s, encoding, cls, object_hook, parse_float, parse_int, parse_constant, object_pairs_hook, **kw)\u001b[0m\n\u001b[1;32m    346\u001b[0m             \u001b[0mparse_int\u001b[0m \u001b[0;32mis\u001b[0m \u001b[0;32mNone\u001b[0m \u001b[0;32mand\u001b[0m \u001b[0mparse_float\u001b[0m \u001b[0;32mis\u001b[0m \u001b[0;32mNone\u001b[0m \u001b[0;32mand\u001b[0m\u001b[0;34m\u001b[0m\u001b[0;34m\u001b[0m\u001b[0m\n\u001b[1;32m    347\u001b[0m             parse_constant is None and object_pairs_hook is None and not kw):\n\u001b[0;32m--> 348\u001b[0;31m         \u001b[0;32mreturn\u001b[0m \u001b[0m_default_decoder\u001b[0m\u001b[0;34m.\u001b[0m\u001b[0mdecode\u001b[0m\u001b[0;34m(\u001b[0m\u001b[0ms\u001b[0m\u001b[0;34m)\u001b[0m\u001b[0;34m\u001b[0m\u001b[0;34m\u001b[0m\u001b[0m\n\u001b[0m\u001b[1;32m    349\u001b[0m     \u001b[0;32mif\u001b[0m \u001b[0mcls\u001b[0m \u001b[0;32mis\u001b[0m \u001b[0;32mNone\u001b[0m\u001b[0;34m:\u001b[0m\u001b[0;34m\u001b[0m\u001b[0;34m\u001b[0m\u001b[0m\n\u001b[1;32m    350\u001b[0m         \u001b[0mcls\u001b[0m \u001b[0;34m=\u001b[0m \u001b[0mJSONDecoder\u001b[0m\u001b[0;34m\u001b[0m\u001b[0;34m\u001b[0m\u001b[0m\n",
      "\u001b[0;32m~/anaconda3/envs/nlp2/lib/python3.7/json/decoder.py\u001b[0m in \u001b[0;36mdecode\u001b[0;34m(self, s, _w)\u001b[0m\n\u001b[1;32m    335\u001b[0m \u001b[0;34m\u001b[0m\u001b[0m\n\u001b[1;32m    336\u001b[0m         \"\"\"\n\u001b[0;32m--> 337\u001b[0;31m         \u001b[0mobj\u001b[0m\u001b[0;34m,\u001b[0m \u001b[0mend\u001b[0m \u001b[0;34m=\u001b[0m \u001b[0mself\u001b[0m\u001b[0;34m.\u001b[0m\u001b[0mraw_decode\u001b[0m\u001b[0;34m(\u001b[0m\u001b[0ms\u001b[0m\u001b[0;34m,\u001b[0m \u001b[0midx\u001b[0m\u001b[0;34m=\u001b[0m\u001b[0m_w\u001b[0m\u001b[0;34m(\u001b[0m\u001b[0ms\u001b[0m\u001b[0;34m,\u001b[0m \u001b[0;36m0\u001b[0m\u001b[0;34m)\u001b[0m\u001b[0;34m.\u001b[0m\u001b[0mend\u001b[0m\u001b[0;34m(\u001b[0m\u001b[0;34m)\u001b[0m\u001b[0;34m)\u001b[0m\u001b[0;34m\u001b[0m\u001b[0;34m\u001b[0m\u001b[0m\n\u001b[0m\u001b[1;32m    338\u001b[0m         \u001b[0mend\u001b[0m \u001b[0;34m=\u001b[0m \u001b[0m_w\u001b[0m\u001b[0;34m(\u001b[0m\u001b[0ms\u001b[0m\u001b[0;34m,\u001b[0m \u001b[0mend\u001b[0m\u001b[0;34m)\u001b[0m\u001b[0;34m.\u001b[0m\u001b[0mend\u001b[0m\u001b[0;34m(\u001b[0m\u001b[0;34m)\u001b[0m\u001b[0;34m\u001b[0m\u001b[0;34m\u001b[0m\u001b[0m\n\u001b[1;32m    339\u001b[0m         \u001b[0;32mif\u001b[0m \u001b[0mend\u001b[0m \u001b[0;34m!=\u001b[0m \u001b[0mlen\u001b[0m\u001b[0;34m(\u001b[0m\u001b[0ms\u001b[0m\u001b[0;34m)\u001b[0m\u001b[0;34m:\u001b[0m\u001b[0;34m\u001b[0m\u001b[0;34m\u001b[0m\u001b[0m\n",
      "\u001b[0;32m~/anaconda3/envs/nlp2/lib/python3.7/json/decoder.py\u001b[0m in \u001b[0;36mraw_decode\u001b[0;34m(self, s, idx)\u001b[0m\n\u001b[1;32m    351\u001b[0m         \"\"\"\n\u001b[1;32m    352\u001b[0m         \u001b[0;32mtry\u001b[0m\u001b[0;34m:\u001b[0m\u001b[0;34m\u001b[0m\u001b[0;34m\u001b[0m\u001b[0m\n\u001b[0;32m--> 353\u001b[0;31m             \u001b[0mobj\u001b[0m\u001b[0;34m,\u001b[0m \u001b[0mend\u001b[0m \u001b[0;34m=\u001b[0m \u001b[0mself\u001b[0m\u001b[0;34m.\u001b[0m\u001b[0mscan_once\u001b[0m\u001b[0;34m(\u001b[0m\u001b[0ms\u001b[0m\u001b[0;34m,\u001b[0m \u001b[0midx\u001b[0m\u001b[0;34m)\u001b[0m\u001b[0;34m\u001b[0m\u001b[0;34m\u001b[0m\u001b[0m\n\u001b[0m\u001b[1;32m    354\u001b[0m         \u001b[0;32mexcept\u001b[0m \u001b[0mStopIteration\u001b[0m \u001b[0;32mas\u001b[0m \u001b[0merr\u001b[0m\u001b[0;34m:\u001b[0m\u001b[0;34m\u001b[0m\u001b[0;34m\u001b[0m\u001b[0m\n\u001b[1;32m    355\u001b[0m             \u001b[0;32mraise\u001b[0m \u001b[0mJSONDecodeError\u001b[0m\u001b[0;34m(\u001b[0m\u001b[0;34m\"Expecting value\"\u001b[0m\u001b[0;34m,\u001b[0m \u001b[0ms\u001b[0m\u001b[0;34m,\u001b[0m \u001b[0merr\u001b[0m\u001b[0;34m.\u001b[0m\u001b[0mvalue\u001b[0m\u001b[0;34m)\u001b[0m \u001b[0;32mfrom\u001b[0m \u001b[0;32mNone\u001b[0m\u001b[0;34m\u001b[0m\u001b[0;34m\u001b[0m\u001b[0m\n",
      "\u001b[0;31mJSONDecodeError\u001b[0m: Expecting ',' delimiter: line 33 column 2378 (char 5572)"
     ]
    }
   ],
   "source": [
    "corpus_path = 'datasets/corpus'\n",
    "start_idx = 0\n",
    "end_idx = 17\n",
    "new_corpus = []\n",
    "for idx in range(start_idx, end_idx+1):\n",
    "    sub_file = 'legal_corpus_{}.json'.format(idx)\n",
    "    print('{}...'.format(sub_file))\n",
    "    with open(os.path.join(corpus_path, sub_file), 'r') as f_sub_corpus:\n",
    "        sub_corpus = json.load(f_sub_corpus)\n",
    "    f_sub_corpus.close()\n",
    "    new_corpus += sub_corpus\n",
    "print('new_corpus: ', len(new_corpus))"
   ]
  },
  {
   "cell_type": "code",
   "execution_count": 18,
   "id": "8b3d30ca",
   "metadata": {},
   "outputs": [
    {
     "name": "stdout",
     "output_type": "stream",
     "text": [
      "\"Thông tư này hướng dẫn tuần tra, canh gác bảo vệ đê Điều trong mùa lũ đối với các tuyến đê sông được phân loại, phân cấp theo quy định tại Điều 4 của Luật Đê Điều.\"\"1. Hàng năm trước mùa mưa, lũ, Ủy ban nhân dân cấp xã nơi có đê phải tổ chức lực lượng lao động tại địa phương để tuần tra, canh gác đê và thường trực trên các điếm canh đê hoặc nhà dân khu vực gần đê (đối với những khu vực chưa có điếm canh đê), khi có báo động lũ từ cấp I trở lên đối với tuyến sông có đê (sau đây gọi tắt là lực lượng tuần tra, canh gác đê).\n",
      "2. Lực lượng tuần tra, canh gác đê được tổ chức thành các đội, do Ủy ban nhân dân cấp xã ra quyết định thành lập; từ 01 đến 02 kilômét đê thành lập 01 đội; mỗi đội có từ 12 đến 18 người, trong đó có 01 đội trưởng và 01 hoặc 02 đội phó. Danh sách thành viên đội tuần tra, canh gác đê được niêm yết tại điếm canh đê thuộc địa bàn được phân công.\n",
      "3. Khi lũ, bão có diễn biến phức tạp, kéo dài ngày, Uỷ ban nhân dân cấp xã có thể quyết định việc bổ sung thêm thành viên cho đội tuần tra, canh gác đê.\"\"1. Là người khoẻ mạnh, tháo vát, đủ khả năng đảm đương những công việc nặng nhọc, kể cả lúc mưa to, gió lớn, đêm tối.\n",
      "2. Có tinh thần trách nhiệm, chịu đựng gian khổ, khắc phục khó khăn, quen sông nước và biết bơi, có kiến thức, kinh nghiệm hộ đê, phòng, chống lụt, bão.\"\"1. Chấp hành sự phân công của Ban chỉ huy phòng, chống lụt, bão các cấp và chịu sự hướng dẫn về chuyên môn nghiệp vụ của cơ quan chuyên trách quản lý đê Điều.\n",
      "2. Tuần tra, canh gác và thường trực trên các điếm canh đê, khi có báo động lũ từ cấp I trở lên đối với tuyến sông có đê. Theo dõi diễn biến của đê Điều; phát hiện kịp thời những hư hỏng của đê Điều và báo cáo ngay cho Ban chỉ huy chống lụt bão xã, cán bộ chuyên trách quản lý đê Điều phụ trách tuyến đê đó và khẩn trương tiến hành xử lý giờ đầu theo đúng kỹ thuật đã được hướng dẫn.\n",
      "3. Tham gia xử lý sự cố và tu sửa kịp thời những hư hỏng của đê Điều, dưới sự hướng dẫn về kỹ thuật của cán bộ chuyên trách quản lý đê Điều hoặc ý kiến chỉ đạo của cấp trên.\n",
      "4. Canh gác, kiểm tra phát hiện và ngăn chặn kịp thời những hành vi vi phạm pháp Luật về đê Điều và phòng, chống lụt, bão và báo cáo ngay cán bộ chuyên trách quản lý đê Điều.\n",
      "5. Đeo phù hiệu khi làm nhiệm vụ.\"\"Phù hiệu của lực lượng tuần tra, canh gác đê là một băng đỏ rộng 10cm, có ký hiệu “KTĐ” màu vàng.\n",
      "Phù hiệu được đeo trên khuỷu tay áo bên trái, chữ “KTĐ” hướng ra phía ngoài.\"\"1. Lực lượng tuần tra, canh gác đê được trang bị:\n",
      "- Dụng cụ thông tin, liên lạc, phương tiện phục vụ công tác tuần tra, canh gác đê; dụng cụ ứng cứu như đèn, đuốc, mai, cuốc, xẻng, đầm, vồ… và các dụng cụ cần thiết khác phù hợp với từng địa phương;\n",
      "- Sổ sách để ghi chép tình hình diễn biến của đê, kè bảo vệ đê, cống qua đê, công trình quản lý khác; tiếp nhận chỉ thị, nhận xét của cấp trên, phân công, bố trí người tuần tra, canh gác hàng ngày.\n",
      "2. Số lượng dụng cụ, sổ sách tối thiểu được trang bị cho mỗi đội tuần tra, canh gác đê như sau:\n",
      "a) Về dụng cụ:\n",
      "- Áo phao:                                             06 cái;\n",
      "- Áo đi mưa:                                          18 cái;\n",
      "- Xe cải tiến:                                          02 chiếc;\n",
      "- Quang gánh :                                       10 đôi;\n",
      "- Xẻng:                                                  06 cái;\n",
      "- Cuốc:                                                  06 cái;\n",
      "- Mai đào đất:                                        02 cái;\n",
      "- Xè beng:                                              01 cái;\n",
      "- Dao:                                                   10 con;\n",
      "- Vồ:                                                     05 cái;\n",
      "- Đèn bão:                                             05 cái;\n",
      "- Đèn ắc quy hoặc đèn pin:                     05 cái;\n",
      "- Trống hoặc kẻng:                                 01 cái;\n",
      "- Biển tín hiệu báo động lũ:                     01 bộ;\n",
      "- Đèn tín hiệu báo động lũ:                      01 bộ;\n",
      "- Tiêu, bảng báo hiệu hư hỏng:                20 cái;\n",
      "- Dầu hỏa:                                             10 lít.\n",
      "b) Về sổ sách:\n",
      "- Sổ ghi danh sách, phân công người tuần tra canh gác theo từng ca, kíp trong ngày; ghi chỉ thị, ý kiến của cấp trên và những nội dung đã báo cáo với cấp trên trong ngày.\n",
      "- Sổ nhật ký ghi chép diễn biến của đê, kè bảo vệ đê, cống qua đê và công trình quản lý khác;\n",
      "Những sổ sách trên phải giữ gìn cẩn thận, ghi chép rõ ràng và thường xuyên để ở trụ sở của đội (điếm canh đê hoặc nhà dân khu vực gần đê - đối với những khu vực chưa có điếm canh đê); nếu không có lệnh của đội trưởng thì không được mang sổ sách đi nơi khác.\n",
      "c) Dụng cụ, sổ sách trên được để tại trụ sở của đội và được bàn giao giữa các kíp trực.\n",
      "3. Kinh phí mua sắm dụng cụ, sổ sách quy định tại khoản 2 của Điều này lấy trong quỹ phòng, chống lụt, bão hoặc ngân sách hàng năm của địa phương.\n",
      "4. Ủy ban nhân dân cấp huyện có đê, trước mùa lũ chịu trách nhiệm mua sắm dụng cụ, sổ sách quy định tại khoản 2 Điều này để cấp cho các đội tuần tra, canh gác đê.\n",
      "5. Sau mùa lũ, đội trưởng các đội tuần tra, canh gác đê có trách nhiệm tổng hợp, thống kê và trao trả số dụng cụ quy định tại điểm a khoản 2 Điều này để bảo quản theo hướng dẫn của Ủy ban nhân dân cấp huyện.\n",
      "6. Các loại sổ sách quy định tại điểm b khoản 2 Điều này, đội trưởng đội tuần tra, canh gác đê có trách nhiệm bàn giao cho đội chuyên trách quản lý đê Điều để xử lý và bảo quản.\n",
      "7. Việc giao nhận các dụng cụ và sổ sách trên đây phải được lập biên bản để quản lý, theo dõi.\"\"1. Khi báo động lũ ở cấp I trở lên, đội tuần tra, canh gác đê phải báo tín hiệu cấp báo động lũ tại các điếm canh đê, như sau:\n",
      "a) - Báo động lũ ở cấp I: 01 đèn màu xanh (ban ngày có thể bổ sung 01 biển hoặc cờ, hình tam giác màu đỏ để dễ nhận biết);\n",
      "- Báo động lũ ở cấp II:    02 đèn màu xanh (ban ngày có thể bổ sung 02 biển hoặc cờ, hình tam giác màu đỏ để dễ nhận biết);\n",
      "- Báo động lũ ở cấp III: 03 đèn màu xanh (ban ngày có thể bổ sung 03 biển hoặc cờ, hình tam giác màu đỏ để dễ nhận biết).\n",
      "b) Các biển (hoặc cờ), đèn báo hiệu được treo theo chiều dọc, với chiều cao thích hợp để mọi người trong khu vực nhìn thấy được.\n",
      "2. Trường hợp khẩn cấp xảy ra sự cố nguy hiểm đe dọa đến an toàn của đê Điều, cần phải huy động lực lượng ứng cứu thì đội trưởng hoặc đội phó của đội tuần tra, canh gác đê cho đánh trống (hoặc kẻng) liên hồi để báo động.\"\"1. Báo động lũ ở cấp I:\n",
      "Bố trí ngày 02 người, đêm 04 người. Ban ngày ít nhất sau 04 giờ có 01 kíp đi tuần, mỗi kíp có 01 người. Ban đêm ít nhất sau 04 giờ có 01 kíp đi tuần, mỗi kíp 02 người.\n",
      "2. Báo động lũ ở cấp II:\n",
      "a) Bố trí ngày 04 người, đêm 06 người. Ban ngày ít nhất sau 02 giờ có 01 kíp đi tuần, mỗi kíp 02 người. Ban đêm ít nhất sau 02 giờ có 01 kíp đi tuần, mỗi kíp 03 người;\n",
      "b) Trường hợp có tin bão khẩn cấp đổ bộ vào khu vực: bố trí ngày 06 người, đêm 12 người, chia thành các kíp, mỗi kíp 03 người; tùy theo diễn biến của bão, lũ và đặc điểm của tuyến đê, Ban chỉ huy phòng, chống lụt, bão cấp xã quyết định việc tăng cường số lần kiểm tra so với quy định tại điểm a khoản 2 Điều này.\n",
      "3. Báo động lũ ở cấp III trở lên:\n",
      "a) Bố trí ngày 06 người, đêm 12 người, chia thành các kíp, mỗi kíp 03 người, không phân biệt ngày đêm các kíp phải liên tục thay phiên nhau kiểm tra;\n",
      "b) Đối với các vị trí xung yếu của đê, kè bảo vệ đê, cống qua đê, bố trí thêm lực lượng để kiểm tra, phát hiện sự cố và báo cáo kịp thời.\"\"1. Phạm vi tuần tra:\n",
      "a) Báo động lũ ở cấp I, bố trí người tuần tra như sau:\n",
      "- Lượt đi: 01 người (ban ngày), 02 người (ban đêm) kiểm tra mặt đê, mái đê phía sông, khu vực hành lang bảo vệ đê phía sông;\n",
      "- Lượt về: 01 người (ban ngày), 02 người (ban đêm) kiểm tra mái đê phía đồng, khu vực hành lang bảo vệ đê phía đồng, mặt ruộng, hồ ao gần chân đê phía đồng;\n",
      "b) Báo động lũ ở cấp II, bố trí người tuần tra như sau:\n",
      "- Lượt đi: 01 người kiểm tra mặt đê, mái đê phía sông, khu vực hành lang bảo vệ đê phía sông; 01 người (ban ngày), 02 người (ban đêm) kiểm tra mái đê phía đồng, khu vực hành lang bảo vệ đê phía đồng, mặt ruộng, hồ ao gần chân đê phía đồng;\n",
      "- Lượt về: 01 người (ban ngày), 02 người (ban đêm) kiểm tra mặt đê, mái đê phía sông, khu vực hành lang bảo vệ đê phía sông; 01 người kiểm tra mái đê phía đồng, khu vực hành lang bảo vệ đê phía đồng, mặt ruộng, hồ ao gần chân đê phía đồng;\n",
      "c) Báo động lũ ở cấp II và có tin bão khẩn cấp đổ bộ vào khu vực hoặc báo động lũ ở cấp III trở lên, bố trí người tuần tra như sau:\n",
      "- Lượt đi: 02 người kiểm tra mái đê, khu vực hành lang bảo vệ đê phía đồng, mặt ruộng, hồ ao gần chân đê phía đồng; 01 người kiểm tra mặt đê.\n",
      "- Lượt về: 02 người kiểm tra phía đồng; 01 người kiểm tra mặt đê, mái đê và khu vực hành lang bảo vệ đê phía sông.\n",
      "d) Mỗi kíp tuần tra phải kiểm tra vượt quá phạm vi phụ trách về hai phía, mỗi phía 50m. Đối với những khu vực đã từng xảy ra sự cố hư hỏng, phải kiểm tra quan sát rộng hơn để phát hiện sự cố.\n",
      "2. Người tuần tra, canh gác phải phát hiện kịp thời những hư hỏng của đê.\n",
      "3. Khi phát hiện có hư hỏng, người tuần tra phải tiến hành các công việc sau:\n",
      "a) Xác định loại hư hỏng, vị trí, đặc điểm, kích thước của loại hư hỏng;\n",
      "b) Xác định mực nước sông so với mặt đê tại vị trí phát sinh hư hỏng;\n",
      "c) Đánh dấu bằng cách ghi bảng, cắm tiêu báo hiệu vị trí hư hỏng; nếu sự cố nghiêm trọng, phải cấm người, vật, xe cơ giới đi qua và bố trí người canh gác tại chỗ để theo dõi thường xuyên diễn biến của hư hỏng;\n",
      "d) Báo cáo kịp thời và cụ thể tình hình hư hỏng cho đội trưởng hoặc đội phó, cán bộ chuyên trách quản lý đê Điều và Ban Chỉ huy phòng, chống lụt, bão xã.\"\"1. Khi lũ ở báo động I trở lên, đội tuần tra, canh gác đê phải phân công người theo dõi chặt chẽ diễn biến của các cống qua đê, ngăn chặn kịp thời những hành vi sử dụng cống trái phép trong mùa lũ.\n",
      "2. Người tuần tra, canh gác phải kiểm tra kỹ phần tiếp giáp giữa thân cống, tường cánh gà của cống với đê; cánh cống, bộ phận đóng mở cánh cống, cửa cống, thân cống và khu vực thượng, hạ lưu cống để phát hiện kịp thời những sự cố xảy ra.\n",
      "3. Khi phát hiện có hư hỏng của cống, người tuần tra, canh gác phải tiến hành các công việc như đối với quy định tại khoản 3 Điều 9 của Thông tư này.\"\"1. Khi mái kè chưa bị ngập nước:\n",
      "a) Kiểm tra mái kè; quan sát dòng chảy khu vực kè.\n",
      "b) Nếu phát hiện thấy hư hỏng phải:\n",
      "- Xác định vị trí, loại hư hỏng, đặc điểm và kích thước hư hỏng, mực nước sông so với đỉnh kè;\n",
      "- Đánh dấu bằng cách ghi bảng, cắm tiêu, bảng báo hiệu vị trí hư hỏng; thường xuyên theo dõi diễn biến của hư hỏng;\n",
      "- Báo cáo kịp thời và cụ thể tình hình hư hỏng cho đội trưởng, đội phó, cán bộ chuyên trách quản lý đê Điều và Ban Chỉ huy phòng, chống lụt, bão xã.\n",
      "2. Khi kè bị ngập nước:\n",
      "a) Tại những kè xung yếu, khi nước chưa ngập đỉnh kè, đội tuần tra, canh gác đê có nhiệm vụ cắm các hàng tiêu để quan sát sự xói lở của kè; các hàng tiêu có thể được cắm như sau:\n",
      "- Cắm tiêu dọc theo kè cách đỉnh kè 01 mét và vượt quá đầu và đuôi kè từ 20 mét đến 30 mét. Những vị trí xung yếu của kè cắm ít nhất từ 02 hàng tiêu trở lên. Khoảng cách giữa các tiêu từ 03 mét đến 04 mét, hàng nọ cách hàng kia từ 02 mét đến 2,5 mét. Tiêu cắm so le nhau;\n",
      "- Tiêu có thể được làm bằng tre, nứa hoặc gỗ …; dài từ 04 mét đến 05 mét; cắm sâu xuống đất và được đánh số thứ tự đầu đến đuôi kè.\n",
      "b) Theo dõi chặt chẽ các hàng tiêu đã cắm, khi phát hiện tiêu bị đổ phải kiểm tra và báo cáo ngay với đội trưởng, đội phó, cán bộ chuyên trách quản lý đê Điều và Ban Chỉ huy phòng, chống lụt, bão xã.\n",
      "3. Khi lũ rút: Khi nước đã rút khỏi bãi và mái kè, người tuần tra phải xem xét tỷ mỉ từng bộ phận của kè, phát hiện hư hỏng xảy ra.\n",
      "4. Sau mỗi đợt lũ các đội trưởng phải tập hợp tình hình diễn biến và hư hỏng của kè, báo cáo cán bộ chuyên trách quản lý đê Điều và Ban Chỉ huy phòng, chống lụt, bão xã.\"\"1. Người tuần tra, canh gác đê trong khi làm nhiệm vụ phát hiện thấy  có hư hỏng của đê Điều phải tìm mọi cách nhanh chóng báo cáo cán bộ chuyên trách quản lý đê Điều và Ban Chỉ huy phòng, chống lụt, bão xã để tiến hành xử lý kịp thời.\n",
      "2. Nội dung báo cáo:\n",
      "- Thời gian phát hiện hư hỏng;\n",
      "- Vị trí, đặc điểm, kích thước, diễn biến của hư hỏng và mức độ nguy hiểm;\n",
      "- Đề xuất biện pháp xử lý.\n",
      "3. Trường hợp xét thấy hư hỏng có khả năng diễn biến xấu, đội trưởng phải cử người tăng cường, theo dõi tại chỗ và cứ 30 phút phải báo cáo một lần.\n",
      "Trường hợp hư hỏng có nguy cơ đe dọa an toàn của công trình, phải tiến hành xử lý gấp nhằm ngăn chặn và hạn chế hư hỏng phát triển thêm đồng thời phát tín hiệu báo động theo quy định khoản 2 Điều 7 của Thông tư này. Trong khi chờ lực lượng ứng cứu, những người được phân công theo dõi tuyệt đối không được rời vị trí được giao.\n",
      "4. Khi có sự cố xảy ra, ngoài việc theo dõi và tham gia xử lý, các đội tuần tra, canh gác đê vẫn phải bảo đảm chế độ tuần tra, canh gác đối với toàn bộ đoạn đê được phân công phụ trách.\"\"Sau mỗi đợt kiểm tra, các kíp tuần tra, canh gác đê phải ghi chép đầy đủ tình hình diễn biến và hư hỏng đê Điều vào sổ nhật ký tuần tra, canh gác theo mẫu quy định và bàn giao đầy đủ cho kíp sau. Người thay mặt kíp giao và nhận phải ký và ghi rõ họ tên, ngày giờ vào sổ. Sau mỗi ngày đội trưởng và cán bộ chuyên trách quản lý đê Điều ký xác nhận tình hình trong ngày để theo dõi và làm cơ sở cho việc chi trả thù lao theo quy định.\"\"1. Người tuần tra, canh gác đê được hưởng thù lao, mức thù lao cho lực lượng này do Ủy ban nhân dân cấp tỉnh quy định, theo hướng dẫn của Bộ Tài chính và Bộ Nông nghiệp và Phát triển nông thôn.\n",
      "2. Trước mùa lũ hàng năm các thành viên đội tuần tra, canh gác đê được tập trung huấn luyện, hướng dẫn nghiệp vụ tuần tra canh gác, hộ đê, phòng, chống, lụt, bão. Những ngày dự huấn luyện được coi như trực tiếp làm nhiệm vụ và được hưởng mức thù lao theo quy định ở khoản 1 Điều này.\n",
      "3. Người bị thương, người bị thiệt hại tính mạng trong khi làm nhiệm vụ được xét hưởng chế độ, chính sách như đối với lực lượng vũ trang tham gia hộ đê theo quy định của pháp Luật.\"\"1. Những đơn vị và cá nhân thực hiện tốt quy định tại Thông tư  này và có thành tích xuất sắc trong công tác tuần tra, canh gác đê sẽ được khen thưởng.\n",
      "2. Những đơn vị và cá nhân vi phạm quy định tại Thông tư này tuỳ theo lỗi nặng nhẹ sẽ bị thi hành kỷ Luật từ cảnh cáo đến truy tố trước pháp Luật của Nhà nước.\"\"1. Trách nhiệm của Uỷ ban nhân dân cấp huyện nơi có đê:\n",
      "a) Hướng dẫn các xã có đê tổ chức lực lượng tuần tra, canh gác đê; hướng dẫn hoạt động và kiểm tra, đôn đốc công tác tuần tra, canh gác.\n",
      "b) Chủ trì, tổ chức chỉ đạo các đơn vị, phối hợp với cơ quan chuyên trách quản lý đê Điều huấn luyện nghiệp vụ tuần tra, canh gác, hộ đê, phòng, chống lụt, bão cho lực lượng tuần tra, canh gác đê.\n",
      "c) Trang bị và hướng dẫn việc quản lý sử dụng các dụng cụ, sổ sách cho các đội tuần tra, canh gác đê theo quy định tại khoản 2 Điều 6 của Thông tư này.\n",
      "2. Trách nhiệm của Uỷ ban nhân dân cấp xã nơi có đê\n",
      "a) Tổ chức lực lượng tuần tra, canh gác đê trong mùa lũ ở các tuyến đê thuộc địa bàn.\n",
      "b) Trực tiếp quản lý và chỉ đạo lực lượng tuần tra, canh gác đê theo các quy định tại Thông tư này.\"\"1. Tham mưu cho Ủy ban nhân dân cấp tỉnh, phối hợp với các đơn vị xây dựng và trình duyệt mức thù lao và các chế độ chính sách đối với lực lượng tuần tra, canh gác đê.\n",
      "2. Phối hợp với Uỷ ban nhân dân cấp huyện, cấp xã để tổ chức, hướng dẫn hoạt động của lực lượng tuần tra, canh gác đê; chỉ đạo lực lượng chuyên trách quản lý đê Điều trực tiếp hướng dẫn chuyên môn, nghiệp vụ cho lực lượng này trước và trong mùa lũ.\n",
      "3. Khi có báo động lũ từ cấp I trở lên, Sở Nông nghiệp và Phát triển nông thôn phải chỉ đạo, tổ chức kiểm tra, đôn đốc công tác tuần tra, canh gác ở các tuyến đê.\"\n"
     ]
    }
   ],
   "source": [
    "s = ''\n",
    "count = 0\n",
    "for law in corpus:\n",
    "    articles = law['articles']\n",
    "    for article in articles:\n",
    "        s += ('\\\"{}\\\"'.format(article['text']))\n",
    "        count += 1\n",
    "    if count >= 2:\n",
    "        break\n",
    "print(s)"
   ]
  },
  {
   "cell_type": "code",
   "execution_count": 13,
   "id": "dfa1ba10",
   "metadata": {},
   "outputs": [],
   "source": []
  },
  {
   "cell_type": "code",
   "execution_count": 22,
   "id": "4e401e93",
   "metadata": {},
   "outputs": [],
   "source": [
    "p = {'text':str(s)}"
   ]
  },
  {
   "cell_type": "code",
   "execution_count": 23,
   "id": "69abed53",
   "metadata": {},
   "outputs": [],
   "source": [
    "with open('datasets/test.json', 'w', encoding='utf-8') as f:\n",
    "    json.dump(p, f, ensure_ascii=False)\n",
    "f.close()"
   ]
  },
  {
   "cell_type": "code",
   "execution_count": null,
   "id": "b9433add",
   "metadata": {},
   "outputs": [],
   "source": []
  }
 ],
 "metadata": {
  "kernelspec": {
   "display_name": "nlp2",
   "language": "python",
   "name": "nlp2"
  },
  "language_info": {
   "codemirror_mode": {
    "name": "ipython",
    "version": 3
   },
   "file_extension": ".py",
   "mimetype": "text/x-python",
   "name": "python",
   "nbconvert_exporter": "python",
   "pygments_lexer": "ipython3",
   "version": "3.7.11"
  }
 },
 "nbformat": 4,
 "nbformat_minor": 5
}
