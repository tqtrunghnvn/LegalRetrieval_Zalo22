{
 "cells": [
  {
   "cell_type": "code",
   "execution_count": 27,
   "id": "8da110fa",
   "metadata": {},
   "outputs": [],
   "source": [
    "from googletrans import Translator\n",
    "translator = Translator()"
   ]
  },
  {
   "cell_type": "code",
   "execution_count": 28,
   "id": "52aedb28",
   "metadata": {},
   "outputs": [],
   "source": [
    "import os\n",
    "import json"
   ]
  },
  {
   "cell_type": "code",
   "execution_count": 29,
   "id": "fcbfab68",
   "metadata": {},
   "outputs": [],
   "source": [
    "corpus_path = '../datasets/legal-text-retrieval/legal_corpus.json'\n",
    "with open(corpus_path, 'r') as f_corpus:\n",
    "    laws = json.load(f_corpus)\n",
    "f_corpus.close()"
   ]
  },
  {
   "cell_type": "code",
   "execution_count": 30,
   "id": "efab9279",
   "metadata": {},
   "outputs": [],
   "source": [
    "def vi2en_translation(x):\n",
    "#     print(x)    \n",
    "    vi2en_translation = translator.translate(x, dest='en')    \n",
    "    return vi2en_translation.text\n",
    "\n",
    "def en2vi_translation(x):\n",
    "#     print(x)    \n",
    "    english_translation = translator.translate(x, dest='vi')    \n",
    "    return english_translation.text\n",
    "\n",
    "def vi2en2vi_translation(x):\n",
    "    vi2en = translator.translate(x, dest='en').text\n",
    "    en2vi = translator.translate(vi2en, dest='vi').text\n",
    "    return en2vi"
   ]
  },
  {
   "cell_type": "code",
   "execution_count": 31,
   "id": "535e49d8",
   "metadata": {},
   "outputs": [
    {
     "name": "stdout",
     "output_type": "stream",
     "text": [
      "Thông tư này hướng dẫn tuần tra và bảo vệ bảo vệ đê trong mùa lũ cho đê sông được phân loại và phân cấp theo Điều 4 của Luật Dyke.\n"
     ]
    }
   ],
   "source": [
    "back_trans = vi2en2vi_translation('Thông tư này hướng dẫn tuần tra, canh gác bảo vệ đê Điều trong mùa lũ đối với các tuyến đê sông được phân loại, phân cấp theo quy định tại Điều 4 của Luật Đê Điều.')\n",
    "print(back_trans)"
   ]
  },
  {
   "cell_type": "code",
   "execution_count": 32,
   "id": "e9f8692a",
   "metadata": {},
   "outputs": [],
   "source": [
    "# back_trans = vi2en2vi_translation('')\n",
    "# print(back_trans)"
   ]
  },
  {
   "cell_type": "code",
   "execution_count": null,
   "id": "d4fcd446",
   "metadata": {},
   "outputs": [],
   "source": [
    "n_title_errors = 0\n",
    "n_text_errors = 0\n",
    "for law in laws:    \n",
    "    for article in law['articles']:\n",
    "        title = article['title']\n",
    "        text = article['text']\n",
    "        \n",
    "        if title is not None and title != '':\n",
    "            xd = True\n",
    "            try:\n",
    "                new_title = vi2en2vi_translation(title)\n",
    "            except:\n",
    "                xd = False\n",
    "                n_title_errors += 1\n",
    "            if xd:\n",
    "                article['title'] = new_title\n",
    "                \n",
    "        if text is not None and text != '':\n",
    "            xd = True\n",
    "            try:\n",
    "                new_text = vi2en2vi_translation(text)\n",
    "            except:\n",
    "                xd = False\n",
    "                n_text_errors += 1\n",
    "            if xd:\n",
    "                article['text'] = new_text"
   ]
  },
  {
   "cell_type": "code",
   "execution_count": null,
   "id": "52a5191f",
   "metadata": {},
   "outputs": [],
   "source": []
  }
 ],
 "metadata": {
  "kernelspec": {
   "display_name": "nlp2",
   "language": "python",
   "name": "nlp2"
  },
  "language_info": {
   "codemirror_mode": {
    "name": "ipython",
    "version": 3
   },
   "file_extension": ".py",
   "mimetype": "text/x-python",
   "name": "python",
   "nbconvert_exporter": "python",
   "pygments_lexer": "ipython3",
   "version": "3.7.11"
  }
 },
 "nbformat": 4,
 "nbformat_minor": 5
}
